{
  "nbformat": 4,
  "nbformat_minor": 0,
  "metadata": {
    "colab": {
      "name": "Untitled5.ipynb",
      "provenance": [],
      "authorship_tag": "ABX9TyOTjNiW0skrLuhfcxGVa60m",
      "include_colab_link": true
    },
    "kernelspec": {
      "name": "python3",
      "display_name": "Python 3"
    }
  },
  "cells": [
    {
      "cell_type": "markdown",
      "metadata": {
        "id": "view-in-github",
        "colab_type": "text"
      },
      "source": [
        "<a href=\"https://colab.research.google.com/github/jon890613/pandas/blob/main/pandas.ipynb\" target=\"_parent\"><img src=\"https://colab.research.google.com/assets/colab-badge.svg\" alt=\"Open In Colab\"/></a>"
      ]
    },
    {
      "cell_type": "code",
      "metadata": {
        "id": "3rKmzNbq0xq3"
      },
      "source": [
        "import pandas as pd\n",
        "import numpy as np"
      ],
      "execution_count": 2,
      "outputs": []
    },
    {
      "cell_type": "code",
      "metadata": {
        "id": "p9z7E1yH1iuS",
        "outputId": "fe570d5f-2577-4147-ec7c-1d50896baa5b",
        "colab": {
          "base_uri": "https://localhost:8080/",
          "height": 136
        }
      },
      "source": [
        " s = pd.Series([1, 3, 5, np.nan, 6, 8])\n",
        "print(s)"
      ],
      "execution_count": 5,
      "outputs": [
        {
          "output_type": "stream",
          "text": [
            "0    1.0\n",
            "1    3.0\n",
            "2    5.0\n",
            "3    NaN\n",
            "4    6.0\n",
            "5    8.0\n",
            "dtype: float64\n"
          ],
          "name": "stdout"
        }
      ]
    },
    {
      "cell_type": "code",
      "metadata": {
        "id": "zbwa0oLV2M9w",
        "outputId": "e52978ab-3b44-4a4a-c05c-fb01ef23a7ff",
        "colab": {
          "base_uri": "https://localhost:8080/",
          "height": 68
        }
      },
      "source": [
        "dates = pd.date_range('20201021', periods=6)\n",
        "print(dates)"
      ],
      "execution_count": 6,
      "outputs": [
        {
          "output_type": "stream",
          "text": [
            "DatetimeIndex(['2020-10-21', '2020-10-22', '2020-10-23', '2020-10-24',\n",
            "               '2020-10-25', '2020-10-26'],\n",
            "              dtype='datetime64[ns]', freq='D')\n"
          ],
          "name": "stdout"
        }
      ]
    },
    {
      "cell_type": "code",
      "metadata": {
        "id": "kWzEG4oC2TIs",
        "outputId": "8601d6e1-e963-4fcc-c8cf-46605b6ac61c",
        "colab": {
          "base_uri": "https://localhost:8080/",
          "height": 136
        }
      },
      "source": [
        "df = pd.DataFrame(np.random.randn(6, 4), columns=list('ABCD'))\n",
        "print(df)"
      ],
      "execution_count": 9,
      "outputs": [
        {
          "output_type": "stream",
          "text": [
            "          A         B         C         D\n",
            "0  0.407375 -0.412956  1.390585  0.754941\n",
            "1  0.263379  1.357489 -0.355916 -1.828914\n",
            "2  1.228275  1.374174  0.119698  0.794887\n",
            "3  0.248465 -1.064603 -0.183379  2.301439\n",
            "4 -0.088793 -1.211508 -1.469927 -0.632680\n",
            "5 -0.512513 -0.184037 -0.271851  0.209160\n"
          ],
          "name": "stdout"
        }
      ]
    },
    {
      "cell_type": "code",
      "metadata": {
        "id": "Mmm2_UKK2aZZ",
        "outputId": "789b05fc-371b-4ee7-b6ad-f64c3bfc9556",
        "colab": {
          "base_uri": "https://localhost:8080/",
          "height": 136
        }
      },
      "source": [
        "df = pd.DataFrame(np.random.randn(6, 4), index=dates, columns=list('ABCD'))\n",
        "print(df)"
      ],
      "execution_count": 11,
      "outputs": [
        {
          "output_type": "stream",
          "text": [
            "                   A         B         C         D\n",
            "2020-10-21  2.044906 -0.283967 -1.726614 -0.922309\n",
            "2020-10-22  1.173422 -2.176406  0.324953 -0.484226\n",
            "2020-10-23  0.203112  1.246255  0.349656  1.534504\n",
            "2020-10-24  0.650237 -0.570753  0.811909  0.425195\n",
            "2020-10-25 -1.173812 -0.009466  0.195405 -0.231662\n",
            "2020-10-26  0.769071  1.253308 -0.496952 -0.384417\n"
          ],
          "name": "stdout"
        }
      ]
    },
    {
      "cell_type": "code",
      "metadata": {
        "id": "iqwWxoqg38nj",
        "outputId": "604a7478-b792-4643-e133-3096a799d74b",
        "colab": {
          "base_uri": "https://localhost:8080/",
          "height": 102
        }
      },
      "source": [
        "df2 = pd.DataFrame({'A': 1.,\n",
        "                        'B': pd.Timestamp('20130102'),\n",
        "                        'C': pd.Series(1, index=list(range(4)), dtype='float32'),\n",
        "                        'D': np.array([3] * 4, dtype='int32'),\n",
        "                        'E': pd.Categorical([\"test\", \"train\", \"test\", \"train\"]),\n",
        "                        'F': 'foo'})\n",
        "print(df2)"
      ],
      "execution_count": 13,
      "outputs": [
        {
          "output_type": "stream",
          "text": [
            "     A          B    C  D      E    F\n",
            "0  1.0 2013-01-02  1.0  3   test  foo\n",
            "1  1.0 2013-01-02  1.0  3  train  foo\n",
            "2  1.0 2013-01-02  1.0  3   test  foo\n",
            "3  1.0 2013-01-02  1.0  3  train  foo\n"
          ],
          "name": "stdout"
        }
      ]
    },
    {
      "cell_type": "code",
      "metadata": {
        "id": "Il42Dq4Z4G9Q",
        "outputId": "ad5376f0-71a6-4a10-8d30-a40a3fe3a524",
        "colab": {
          "base_uri": "https://localhost:8080/",
          "height": 102
        }
      },
      "source": [
        "df2 = pd.DataFrame({'A': 1.,\n",
        "                        'B': pd.Timestamp('20201021'),\n",
        "                        'C': 1.,\n",
        "                        'D': 3,\n",
        "                        'E': pd.Categorical([\"test\", \"train\", \"test\", \"train\"]),\n",
        "                        'F': 'foo'})\n",
        "print(df2)"
      ],
      "execution_count": 15,
      "outputs": [
        {
          "output_type": "stream",
          "text": [
            "     A          B    C  D      E    F\n",
            "0  1.0 2020-10-21  1.0  3   test  foo\n",
            "1  1.0 2020-10-21  1.0  3  train  foo\n",
            "2  1.0 2020-10-21  1.0  3   test  foo\n",
            "3  1.0 2020-10-21  1.0  3  train  foo\n"
          ],
          "name": "stdout"
        }
      ]
    },
    {
      "cell_type": "code",
      "metadata": {
        "id": "WEoDOHJi4l4S",
        "outputId": "b5477f7e-64db-42cc-e5c5-ccd7d6341cc4",
        "colab": {
          "base_uri": "https://localhost:8080/",
          "height": 142
        }
      },
      "source": [
        "df.head(3)"
      ],
      "execution_count": 17,
      "outputs": [
        {
          "output_type": "execute_result",
          "data": {
            "text/html": [
              "<div>\n",
              "<style scoped>\n",
              "    .dataframe tbody tr th:only-of-type {\n",
              "        vertical-align: middle;\n",
              "    }\n",
              "\n",
              "    .dataframe tbody tr th {\n",
              "        vertical-align: top;\n",
              "    }\n",
              "\n",
              "    .dataframe thead th {\n",
              "        text-align: right;\n",
              "    }\n",
              "</style>\n",
              "<table border=\"1\" class=\"dataframe\">\n",
              "  <thead>\n",
              "    <tr style=\"text-align: right;\">\n",
              "      <th></th>\n",
              "      <th>A</th>\n",
              "      <th>B</th>\n",
              "      <th>C</th>\n",
              "      <th>D</th>\n",
              "    </tr>\n",
              "  </thead>\n",
              "  <tbody>\n",
              "    <tr>\n",
              "      <th>2020-10-21</th>\n",
              "      <td>2.044906</td>\n",
              "      <td>-0.283967</td>\n",
              "      <td>-1.726614</td>\n",
              "      <td>-0.922309</td>\n",
              "    </tr>\n",
              "    <tr>\n",
              "      <th>2020-10-22</th>\n",
              "      <td>1.173422</td>\n",
              "      <td>-2.176406</td>\n",
              "      <td>0.324953</td>\n",
              "      <td>-0.484226</td>\n",
              "    </tr>\n",
              "    <tr>\n",
              "      <th>2020-10-23</th>\n",
              "      <td>0.203112</td>\n",
              "      <td>1.246255</td>\n",
              "      <td>0.349656</td>\n",
              "      <td>1.534504</td>\n",
              "    </tr>\n",
              "  </tbody>\n",
              "</table>\n",
              "</div>"
            ],
            "text/plain": [
              "                   A         B         C         D\n",
              "2020-10-21  2.044906 -0.283967 -1.726614 -0.922309\n",
              "2020-10-22  1.173422 -2.176406  0.324953 -0.484226\n",
              "2020-10-23  0.203112  1.246255  0.349656  1.534504"
            ]
          },
          "metadata": {
            "tags": []
          },
          "execution_count": 17
        }
      ]
    },
    {
      "cell_type": "code",
      "metadata": {
        "id": "6DvShDf4Mbki",
        "outputId": "9caca2cf-f6a5-4568-f500-dea88c9dd73c",
        "colab": {
          "base_uri": "https://localhost:8080/",
          "height": 142
        }
      },
      "source": [
        "df[:3]"
      ],
      "execution_count": 25,
      "outputs": [
        {
          "output_type": "execute_result",
          "data": {
            "text/html": [
              "<div>\n",
              "<style scoped>\n",
              "    .dataframe tbody tr th:only-of-type {\n",
              "        vertical-align: middle;\n",
              "    }\n",
              "\n",
              "    .dataframe tbody tr th {\n",
              "        vertical-align: top;\n",
              "    }\n",
              "\n",
              "    .dataframe thead th {\n",
              "        text-align: right;\n",
              "    }\n",
              "</style>\n",
              "<table border=\"1\" class=\"dataframe\">\n",
              "  <thead>\n",
              "    <tr style=\"text-align: right;\">\n",
              "      <th></th>\n",
              "      <th>A</th>\n",
              "      <th>B</th>\n",
              "      <th>C</th>\n",
              "      <th>D</th>\n",
              "    </tr>\n",
              "  </thead>\n",
              "  <tbody>\n",
              "    <tr>\n",
              "      <th>2020-10-21</th>\n",
              "      <td>2.044906</td>\n",
              "      <td>-0.283967</td>\n",
              "      <td>-1.726614</td>\n",
              "      <td>-0.922309</td>\n",
              "    </tr>\n",
              "    <tr>\n",
              "      <th>2020-10-22</th>\n",
              "      <td>1.173422</td>\n",
              "      <td>-2.176406</td>\n",
              "      <td>0.324953</td>\n",
              "      <td>-0.484226</td>\n",
              "    </tr>\n",
              "    <tr>\n",
              "      <th>2020-10-23</th>\n",
              "      <td>0.203112</td>\n",
              "      <td>1.246255</td>\n",
              "      <td>0.349656</td>\n",
              "      <td>1.534504</td>\n",
              "    </tr>\n",
              "  </tbody>\n",
              "</table>\n",
              "</div>"
            ],
            "text/plain": [
              "                   A         B         C         D\n",
              "2020-10-21  2.044906 -0.283967 -1.726614 -0.922309\n",
              "2020-10-22  1.173422 -2.176406  0.324953 -0.484226\n",
              "2020-10-23  0.203112  1.246255  0.349656  1.534504"
            ]
          },
          "metadata": {
            "tags": []
          },
          "execution_count": 25
        }
      ]
    },
    {
      "cell_type": "code",
      "metadata": {
        "id": "yq6OxSIOGPzk",
        "outputId": "f2ea3b29-42bd-416b-d7a7-67fcc3054b51",
        "colab": {
          "base_uri": "https://localhost:8080/",
          "height": 136
        }
      },
      "source": [
        "print(df.sort_index(axis=1, ascending=False))\n"
      ],
      "execution_count": 19,
      "outputs": [
        {
          "output_type": "stream",
          "text": [
            "                   D         C         B         A\n",
            "2020-10-21 -0.922309 -1.726614 -0.283967  2.044906\n",
            "2020-10-22 -0.484226  0.324953 -2.176406  1.173422\n",
            "2020-10-23  1.534504  0.349656  1.246255  0.203112\n",
            "2020-10-24  0.425195  0.811909 -0.570753  0.650237\n",
            "2020-10-25 -0.231662  0.195405 -0.009466 -1.173812\n",
            "2020-10-26 -0.384417 -0.496952  1.253308  0.769071\n"
          ],
          "name": "stdout"
        }
      ]
    },
    {
      "cell_type": "code",
      "metadata": {
        "id": "30xYi561ImO8",
        "outputId": "9697bbb2-8348-4c1e-d4be-ca75bbe0209f",
        "colab": {
          "base_uri": "https://localhost:8080/",
          "height": 136
        }
      },
      "source": [
        "print(df.sort_index(axis=0, ascending=False))\n"
      ],
      "execution_count": 22,
      "outputs": [
        {
          "output_type": "stream",
          "text": [
            "                   A         B         C         D\n",
            "2020-10-26  0.769071  1.253308 -0.496952 -0.384417\n",
            "2020-10-25 -1.173812 -0.009466  0.195405 -0.231662\n",
            "2020-10-24  0.650237 -0.570753  0.811909  0.425195\n",
            "2020-10-23  0.203112  1.246255  0.349656  1.534504\n",
            "2020-10-22  1.173422 -2.176406  0.324953 -0.484226\n",
            "2020-10-21  2.044906 -0.283967 -1.726614 -0.922309\n"
          ],
          "name": "stdout"
        }
      ]
    },
    {
      "cell_type": "code",
      "metadata": {
        "id": "QlghqYnbJkma",
        "outputId": "f37bcf40-cf2b-4299-ca85-f35d24f2eb37",
        "colab": {
          "base_uri": "https://localhost:8080/",
          "height": 85
        }
      },
      "source": [
        "print(df.loc['20201023':'20201025', ['C', 'D']])"
      ],
      "execution_count": 23,
      "outputs": [
        {
          "output_type": "stream",
          "text": [
            "                   C         D\n",
            "2020-10-23  0.349656  1.534504\n",
            "2020-10-24  0.811909  0.425195\n",
            "2020-10-25  0.195405 -0.231662\n"
          ],
          "name": "stdout"
        }
      ]
    },
    {
      "cell_type": "code",
      "metadata": {
        "id": "0YNQHu_9GWXF",
        "outputId": "0edd715f-81ad-45f5-b67b-b2d9f448adf2",
        "colab": {
          "base_uri": "https://localhost:8080/",
          "height": 136
        }
      },
      "source": [
        "print(df.sort_values(by=\"C\",ascending=False))"
      ],
      "execution_count": 21,
      "outputs": [
        {
          "output_type": "stream",
          "text": [
            "                   A         B         C         D\n",
            "2020-10-24  0.650237 -0.570753  0.811909  0.425195\n",
            "2020-10-23  0.203112  1.246255  0.349656  1.534504\n",
            "2020-10-22  1.173422 -2.176406  0.324953 -0.484226\n",
            "2020-10-25 -1.173812 -0.009466  0.195405 -0.231662\n",
            "2020-10-26  0.769071  1.253308 -0.496952 -0.384417\n",
            "2020-10-21  2.044906 -0.283967 -1.726614 -0.922309\n"
          ],
          "name": "stdout"
        }
      ]
    },
    {
      "cell_type": "code",
      "metadata": {
        "id": "MmV3uZZEMqxt",
        "outputId": "bdcd46a1-ff01-458a-c070-a0c1650846c4",
        "colab": {
          "base_uri": "https://localhost:8080/",
          "height": 102
        }
      },
      "source": [
        "df.loc[dates[0]]"
      ],
      "execution_count": 26,
      "outputs": [
        {
          "output_type": "execute_result",
          "data": {
            "text/plain": [
              "A    2.044906\n",
              "B   -0.283967\n",
              "C   -1.726614\n",
              "D   -0.922309\n",
              "Name: 2020-10-21 00:00:00, dtype: float64"
            ]
          },
          "metadata": {
            "tags": []
          },
          "execution_count": 26
        }
      ]
    }
  ]
}